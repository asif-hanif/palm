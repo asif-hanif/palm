{
 "cells": [
  {
   "cell_type": "markdown",
   "metadata": {},
   "source": [
    "## Audio Datasets\n",
    "All datasets mentioned in this notebook are hosted on Huggingface Datasets. After specifying the path to downalod dataset, the dataset can be downloaded by running the corresponding cell."
   ]
  },
  {
   "cell_type": "code",
   "execution_count": null,
   "metadata": {},
   "outputs": [],
   "source": [
    "import os\n",
    "import huggingface_hub\n",
    "import zipfile\n",
    "import shutil"
   ]
  },
  {
   "cell_type": "markdown",
   "metadata": {},
   "source": [
    "## Dataset Path"
   ]
  },
  {
   "cell_type": "code",
   "execution_count": null,
   "metadata": {},
   "outputs": [],
   "source": [
    "audio_datasets_path = \"/home/asif.hanif/Audio-Datasets\"\n",
    "if not os.path.exists(audio_datasets_path): print(f\"Given {audio_datasets_path=} does not exist. Specify a valid path ending with 'Audio-Datasets' folder.\")"
   ]
  },
  {
   "cell_type": "markdown",
   "metadata": {},
   "source": [
    "## Beijing-Opera"
   ]
  },
  {
   "cell_type": "code",
   "execution_count": null,
   "metadata": {},
   "outputs": [],
   "source": [
    "huggingface_hub.snapshot_download(repo_id=\"MahiA/Beijing-Opera\", repo_type=\"dataset\", local_dir=os.path.join(audio_datasets_path, \"Beijing-Opera\"))"
   ]
  },
  {
   "cell_type": "markdown",
   "metadata": {},
   "source": [
    "## CREMA-D"
   ]
  },
  {
   "cell_type": "code",
   "execution_count": null,
   "metadata": {},
   "outputs": [],
   "source": [
    "huggingface_hub.snapshot_download(repo_id=\"MahiA/CREMA-D\", repo_type=\"dataset\", local_dir=os.path.join(audio_datasets_path, \"CREMA-D\"))"
   ]
  },
  {
   "cell_type": "markdown",
   "metadata": {},
   "source": [
    "## ESC50"
   ]
  },
  {
   "cell_type": "code",
   "execution_count": null,
   "metadata": {},
   "outputs": [],
   "source": [
    "huggingface_hub.snapshot_download(repo_id=\"MahiA/ESC50\", repo_type=\"dataset\", local_dir=os.path.join(audio_datasets_path, \"ESC50\"))"
   ]
  },
  {
   "cell_type": "markdown",
   "metadata": {},
   "source": [
    "## ESC50-Action"
   ]
  },
  {
   "cell_type": "code",
   "execution_count": null,
   "metadata": {},
   "outputs": [],
   "source": [
    "huggingface_hub.snapshot_download(repo_id=\"MahiA/ESC50-Actions\", repo_type=\"dataset\", local_dir=os.path.join(audio_datasets_path, \"ESC50-Actions\"))"
   ]
  },
  {
   "cell_type": "markdown",
   "metadata": {},
   "source": [
    "## GT-Music-Genre"
   ]
  },
  {
   "cell_type": "code",
   "execution_count": null,
   "metadata": {},
   "outputs": [],
   "source": [
    "huggingface_hub.snapshot_download(repo_id=\"MahiA/GT-Music-Genre\", repo_type=\"dataset\", local_dir=os.path.join(audio_datasets_path, \"GT-Music-Genre\"))"
   ]
  },
  {
   "cell_type": "markdown",
   "metadata": {},
   "source": [
    "## NS-Instruments"
   ]
  },
  {
   "cell_type": "code",
   "execution_count": null,
   "metadata": {},
   "outputs": [],
   "source": [
    "huggingface_hub.snapshot_download(repo_id=\"MahiA/NS-Instruments\", repo_type=\"dataset\", local_dir=os.path.join(audio_datasets_path, \"NS-Instruments\"))\n",
    "zipfile_path = os.path.join(audio_datasets_path, 'NS-Instruments', 'NS-Instruments.zip')\n",
    "with zipfile.ZipFile(zipfile_path,\"r\") as zip_ref:\n",
    "    zip_ref.extractall(os.path.join(audio_datasets_path, 'NS-Instruments'))\n",
    "shutil.move(os.path.join(audio_datasets_path, 'NS-Instruments','NS-Instruments', 'audios'), os.path.join(audio_datasets_path, 'NS-Instruments'))\n",
    "shutil.move(os.path.join(audio_datasets_path, 'NS-Instruments','NS-Instruments', 'train.csv'), os.path.join(audio_datasets_path, 'NS-Instruments'))\n",
    "shutil.move(os.path.join(audio_datasets_path, 'NS-Instruments','NS-Instruments', 'test.csv'), os.path.join(audio_datasets_path, 'NS-Instruments'))\n",
    "shutil.rmtree(os.path.join(audio_datasets_path, 'NS-Instruments', 'NS-Instruments'))\n",
    "os.remove(zipfile_path)"
   ]
  },
  {
   "cell_type": "markdown",
   "metadata": {},
   "source": [
    "## RAVDESS"
   ]
  },
  {
   "cell_type": "code",
   "execution_count": null,
   "metadata": {},
   "outputs": [],
   "source": [
    "huggingface_hub.snapshot_download(repo_id=\"MahiA/RAVDESS\", repo_type=\"dataset\", local_dir=os.path.join(audio_datasets_path, \"RAVDESS\"))"
   ]
  },
  {
   "cell_type": "markdown",
   "metadata": {},
   "source": [
    "## SESA"
   ]
  },
  {
   "cell_type": "code",
   "execution_count": null,
   "metadata": {},
   "outputs": [],
   "source": [
    "huggingface_hub.snapshot_download(repo_id=\"MahiA/SESA\", repo_type=\"dataset\", local_dir=os.path.join(audio_datasets_path, \"SESA\"))"
   ]
  },
  {
   "cell_type": "markdown",
   "metadata": {},
   "source": [
    "## TUT2017"
   ]
  },
  {
   "cell_type": "code",
   "execution_count": null,
   "metadata": {},
   "outputs": [],
   "source": [
    "huggingface_hub.snapshot_download(repo_id=\"MahiA/TUT2017\", repo_type=\"dataset\", local_dir=os.path.join(audio_datasets_path, \"TUT2017\"))"
   ]
  },
  {
   "cell_type": "markdown",
   "metadata": {},
   "source": [
    "## UrbanSound8K"
   ]
  },
  {
   "cell_type": "code",
   "execution_count": null,
   "metadata": {},
   "outputs": [],
   "source": [
    "huggingface_hub.snapshot_download(repo_id=\"MahiA/UrbanSound8K\", repo_type=\"dataset\", local_dir=os.path.join(audio_datasets_path, \"UrbanSound8K\"))"
   ]
  },
  {
   "cell_type": "markdown",
   "metadata": {},
   "source": [
    "## VocalSound"
   ]
  },
  {
   "cell_type": "code",
   "execution_count": null,
   "metadata": {},
   "outputs": [],
   "source": [
    "huggingface_hub.snapshot_download(repo_id=\"MahiA/VocalSound\", repo_type=\"dataset\", local_dir=os.path.join(audio_datasets_path, \"VocalSound\"))\n",
    "zipfile_path = os.path.join(audio_datasets_path, 'VocalSound', 'VocalSound.zip')\n",
    "with zipfile.ZipFile(zipfile_path,\"r\") as zip_ref:\n",
    "    zip_ref.extractall(os.path.join(audio_datasets_path, 'VocalSound'))\n",
    "shutil.move(os.path.join(audio_datasets_path, 'VocalSound','VocalSound', 'audios'), os.path.join(audio_datasets_path, 'VocalSound'))\n",
    "shutil.move(os.path.join(audio_datasets_path, 'VocalSound','VocalSound', 'train.csv'), os.path.join(audio_datasets_path, 'VocalSound'))\n",
    "shutil.move(os.path.join(audio_datasets_path, 'VocalSound','VocalSound', 'test.csv'), os.path.join(audio_datasets_path, 'VocalSound'))\n",
    "shutil.rmtree(os.path.join(audio_datasets_path, 'VocalSound', 'VocalSound'))\n",
    "os.remove(zipfile_path)"
   ]
  },
  {
   "cell_type": "markdown",
   "metadata": {},
   "source": []
  }
 ],
 "metadata": {
  "kernelspec": {
   "display_name": "palm",
   "language": "python",
   "name": "python3"
  },
  "language_info": {
   "codemirror_mode": {
    "name": "ipython",
    "version": 3
   },
   "file_extension": ".py",
   "mimetype": "text/x-python",
   "name": "python",
   "nbconvert_exporter": "python",
   "pygments_lexer": "ipython3",
   "version": "3.8.19"
  }
 },
 "nbformat": 4,
 "nbformat_minor": 2
}
